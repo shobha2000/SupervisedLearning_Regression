{
 "cells": [
  {
   "cell_type": "markdown",
   "metadata": {},
   "source": [
    "# Linear Regression Algorithm:"
   ]
  },
  {
   "cell_type": "code",
   "execution_count": 1,
   "metadata": {},
   "outputs": [
    {
     "name": "stdout",
     "output_type": "stream",
     "text": [
      "Coefficients: [13269.84936446  3397.71955664  2029.77461111]\n"
     ]
    },
    {
     "data": {
      "image/png": "[encoded data removed]",
      "text/plain": [
       "<Figure size 432x288 with 1 Axes>"
      ]
     },
     "metadata": {
      "needs_background": "light"
     },
     "output_type": "display_data"
    }
   ],
   "source": [
    "import numpy as np\n",
    "import pandas as pd\n",
    "import matplotlib.pyplot as plt\n",
    "\n",
    "def linear_regression(x_train, y_train, learning_rate, num_iterations):\n",
    "    num_samples = len(x_train)\n",
    "    num_features = x_train.shape[1]\n",
    "\n",
    "    # Initialize the parameters\n",
    "    theta = np.zeros(num_features + 1)\n",
    "    cost_history = []\n",
    "\n",
    "    # Add a column of ones to the features matrix for the intercept term\n",
    "    ones = np.ones((num_samples, 1))\n",
    "    X = np.concatenate((ones, x_train), axis=1)\n",
    "\n",
    "    # Perform gradient descent\n",
    "    for i in range(num_iterations):\n",
    "        # Calculate the predicted values\n",
    "        y_pred = np.dot(X, theta)\n",
    "\n",
    "        # Calculate the cost\n",
    "        cost = (1 / (2 * num_samples)) * np.sum((y_pred - y_train) ** 2)\n",
    "        cost_history.append(cost)\n",
    "\n",
    "        # Calculate the gradients\n",
    "        gradients = (1 / num_samples) * np.dot(X.T, (y_pred - y_train))\n",
    "\n",
    "        # Update the parameters\n",
    "        theta -= learning_rate * gradients\n",
    "\n",
    "    return theta, cost_history\n",
    "\n",
    "# Load the dataset\n",
    "data = pd.read_csv('Medical Price Dataset.csv')\n",
    "\n",
    "# Preprocessing\n",
    "x_train = data[['age', 'bmi']].values\n",
    "y_train = data['charges'].values\n",
    "\n",
    "# Normalize the features (optional but recommended)\n",
    "# x_train = (x_train - np.mean(x_train, axis=0)) / np.std(x_train, axis=0)\n",
    "\n",
    "# Set hyperparameters\n",
    "learning_rate = 0.01\n",
    "num_iterations = 1000\n",
    "\n",
    "# Train the linear regression model\n",
    "theta, cost_history = linear_regression(x_train, y_train, learning_rate, num_iterations)\n",
    "\n",
    "# Print the coefficients\n",
    "print('Coefficients:', theta)\n",
    "\n",
    "# Plot the cost history\n",
    "plt.plot(cost_history)\n",
    "plt.xlabel('Iteration')\n",
    "plt.ylabel('Cost')\n",
    "plt.title('Cost History')\n",
    "plt.show()\n"
   ]
  }
 ],
 "metadata": {
  "kernelspec": {
   "display_name": "Python 3",
   "language": "python",
   "name": "python3"
  },
  "language_info": {
   "codemirror_mode": {
    "name": "ipython",
    "version": 3
   },
   "file_extension": ".py",
   "mimetype": "text/x-python",
   "name": "python",
   "nbconvert_exporter": "python",
   "pygments_lexer": "ipython3",
   "version": "3.8.5"
  }
 },
 "nbformat": 4,
 "nbformat_minor": 4
}
